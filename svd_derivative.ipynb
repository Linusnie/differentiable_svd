{
 "cells": [
  {
   "cell_type": "markdown",
   "metadata": {
    "toc": true
   },
   "source": [
    "<h1>Table of Contents<span class=\"tocSkip\"></span></h1>\n",
    "<div class=\"toc\"><ul class=\"toc-item\"><li><span><a href=\"#Introduction\" data-toc-modified-id=\"Introduction-1\"><span class=\"toc-item-num\">1&nbsp;&nbsp;</span>Introduction</a></span><ul class=\"toc-item\"><li><span><a href=\"#Parametrized-SVD\" data-toc-modified-id=\"Parametrized-SVD-1.1\"><span class=\"toc-item-num\">1.1&nbsp;&nbsp;</span>Parametrized SVD</a></span></li><li><span><a href=\"#Computing-the-SVD-derivatives\" data-toc-modified-id=\"Computing-the-SVD-derivatives-1.2\"><span class=\"toc-item-num\">1.2&nbsp;&nbsp;</span>Computing the SVD derivatives</a></span></li></ul></li><li><span><a href=\"#Example:-Control-system\" data-toc-modified-id=\"Example:-Control-system-2\"><span class=\"toc-item-num\">2&nbsp;&nbsp;</span>Example: Control system</a></span></li></ul></div>"
   ]
  },
  {
   "cell_type": "code",
   "execution_count": 1,
   "metadata": {
    "ExecuteTime": {
     "end_time": "2020-05-31T18:55:22.795100Z",
     "start_time": "2020-05-31T18:55:22.577275Z"
    }
   },
   "outputs": [
    {
     "data": {
      "text/html": [
       "<style>.container { width:85% !important; }</style>"
      ],
      "text/plain": [
       "<IPython.core.display.HTML object>"
      ]
     },
     "metadata": {},
     "output_type": "display_data"
    }
   ],
   "source": [
    "from IPython.core.display import display, HTML\n",
    "display(HTML(\"<style>.container { width:85% !important; }</style>\"))\n",
    "\n",
    "import numpy\n",
    "numpy.set_printoptions(edgeitems=30, linewidth=100000)\n",
    "\n",
    "from matplotlib import pyplot as plt\n",
    "\n",
    "%matplotlib notebook"
   ]
  },
  {
   "cell_type": "markdown",
   "metadata": {},
   "source": [
    "# Introduction\n",
    "The [singular value decompositon](https://en.wikipedia.org/wiki/Singular_value_decomposition) has many practical uses in science and engineering. It sates that any real $m\\times n$ matrix $A$ can be written as $A = U\\Sigma V^T$ where:\n",
    "* $U$ and $V$ are [orthogonal matrices](https://en.wikipedia.org/wiki/Orthogonal_matrix) with shapes $m\\times m$ and $n\\times n$ respectively.\n",
    "* $\\Sigma$ is a positive diagonal matrix with shape $d\\times d$ where $d=\\min(m,n)$. The diagonal elements $\\Sigma_{ii}\\equiv\\sigma_i\\geq0$ are sorted in decending order so that $\\sigma_1 \\geq \\ldots \\geq \\sigma_d$.\n",
    "\n",
    "## Parametrized SVD\n",
    "\n",
    "By taking a matrix $A(k)$ that depends on a parameter $k$ we can define functions $U(k)$, $\\Sigma(k)$, $V(k)$ through the singular value decomposition $A(k) = U(k)\\Sigma(k)V^T(k)$. It turns out that if $A(k)$ is continuous the components of the singular value decomposition are also continuous and differentiable with respect to $k$ in many cases*.\n",
    "\n",
    "\\*We have to assume there is a unique choice of $U(k), \\Sigma(k)$ and $V(k)$ for each given $k$ which isn't the case. But practically the full trajectory should be well defined after fixing a signle point $U(k_0)$ as long as there are no repeated singular values (points where $\\sigma_i = \\sigma_j$ for $i\\neq j$). See e.g. this [stack exchange thread](https://math.stackexchange.com/questions/644327/how-unique-are-u-and-v-in-the-singular-value-decomposition) for some interesting discussions on this topic. \n",
    "\n",
    "## Computing the SVD derivatives\n",
    "It turns out that there's a relatively simple way to compute the derivatives of the SVD matrices with respect to $k$. The derivation can be found for example [here](https://projects.ics.forth.gr/_publications/2000_eccv_SVD_jacobian.pdf) and [here](https://j-towns.github.io/papers/svd-derivative.pdf) but I'll repeat it here with a notation that matches the python implementation in this repo. We start by implicitly differentiating both sides of the SVD relationship, letting $'$ denote derivative:\n",
    "$$A' = U' \\Sigma V^T + U \\Sigma' V^T + U \\Sigma V'^T$$\n",
    "Then multiply by $U^T$ from the left and $V$ from the right and letting $R = U^TA' V$, $S^U = U^TU'$, $S^V = V'^TV$:\n",
    "$$R = S^U\\Sigma + \\Sigma' + \\Sigma S^V.$$\n",
    "\n",
    "This means we have:\n",
    "* $\\sigma'_i = R_{ii}$ \n",
    "* $R_{ij} = S^U_{ij}\\sigma_j + \\sigma_i S^V_{ij}$ for $i\\neq j$\n",
    "* $R_{ji} = -\\sigma_i S^U_{ij} - S^V_{ij} \\sigma_j$ for $i\\neq j$\n",
    "\n",
    "The first equation gives us the derivative of $\\sigma_i$! Relying on the assumption that all singular values have unique values we can solve the remaining two equations for $S^U_{ij}$ and $S^V_{ij}$ to get:\n",
    "* $S^{U}_{ij} = (\\sigma_jR_{ij} + \\sigma_iR_{ji}) / (\\sigma_j^2 - \\sigma_i^2)$\n",
    "* $S^{V}_{ij} = -(\\sigma_iR_{ij} + \\sigma_jR_{ji}) / (\\sigma_j^2 - \\sigma_i^2)$\n",
    "\n",
    "Which can be written on matrix form as:\n",
    "* $S^U = D\\circ(R\\Sigma + \\Sigma R^T)$\n",
    "* $S^V = -D\\circ(\\Sigma R + R^T\\Sigma)$\n",
    "\n",
    "where $D_{ij} = 1 / (\\sigma_j^2 - \\sigma_i^2)$ for $i\\neq j$, $D_{ii} = 0$ and $\\circ$ denotes elementwise multiplication.\n",
    "\n",
    "We can then finally compute the derivatives of $U$ and $V$ using $U' = US^U$ and $V'^T = S^VV^T$."
   ]
  },
  {
   "cell_type": "markdown",
   "metadata": {},
   "source": [
    "# Example: Control system\n",
    "\n",
    "As an illustrative example we consider a feedback system with input $x\\in\\mathrm{R}^n$ and output $y\\in\\mathrm{R}^m$ given by:\n",
    "$$y = H(x + kFy)$$\n",
    "where $k$ is a tunable scalar parameter and $H$, $F$ are fixed system matrices defined by some physical process.  Typically, $H$ and $F$ will depend on the complex frequency $s=\\sigma + j\\omega$ of the input but let's ignore that for now. \n",
    "\n",
    "Solving the above relationship for $y$ we get:\n",
    "$$y = (1 - kHF)^{-1}Hx \\equiv A(k)y$$\n",
    "where $A(k)$ is the effective system matrix after taking the feedback control into account. A typical problem in control is to tune $k$ such that $A(k)$ has some desirable property like stability or response time for certain inputs. Such properties are often defined in terms of the singular value decomposition of $A(k)$ so being able to compute their derivatives with respect to could be interesting for e.g. sensitivity analysis.\n",
    "\n",
    "To use the formulas above we need to first get a formula for $A'(k)$. We differentiate both sides of the relationship $(1-kHF)A(k) = H$ to get\n",
    "$$(1-kHF)A'(k) - HFA(k) = 0$$\n",
    "and thus $$A'(k) = (1-kHF)^{-1}HFA(k) = A(k)FA(k).$$\n",
    "\n",
    "Below we verify that the SVD deritative corresponds to the numeric derivative for this example."
   ]
  },
  {
   "cell_type": "code",
   "execution_count": 2,
   "metadata": {
    "ExecuteTime": {
     "end_time": "2020-05-31T18:55:23.643624Z",
     "start_time": "2020-05-31T18:55:23.637592Z"
    }
   },
   "outputs": [],
   "source": [
    "m, n = 10, 8\n",
    "d = min(m, n)\n",
    "H = numpy.random.normal(size=(m, n))\n",
    "F = numpy.random.normal(size=(n, m))\n",
    "\n",
    "def A(k):\n",
    "    return numpy.linalg.inv(numpy.eye(m, m) - k * H.dot(F)).dot(H)\n",
    "\n",
    "def A_dot(k):\n",
    "    A_k = A(k)\n",
    "    return A_k.dot(F).dot(A_k)"
   ]
  },
  {
   "cell_type": "code",
   "execution_count": 3,
   "metadata": {
    "ExecuteTime": {
     "end_time": "2020-05-31T18:55:24.074408Z",
     "start_time": "2020-05-31T18:55:24.063371Z"
    }
   },
   "outputs": [],
   "source": [
    "def svd_derivative_numeric(k, h):\n",
    "    return [(numpy.linalg.svd(A(k+h), full_matrices=False)[i] - numpy.linalg.svd(A(k), full_matrices=False)[i]) / h for i in range(3)]"
   ]
  },
  {
   "cell_type": "code",
   "execution_count": 4,
   "metadata": {
    "ExecuteTime": {
     "end_time": "2020-05-31T18:55:24.879971Z",
     "start_time": "2020-05-31T18:55:24.854498Z"
    }
   },
   "outputs": [
    {
     "name": "stdout",
     "output_type": "stream",
     "text": [
      "2.0318455814716085e-05 3.725357004821272e-07 2.1074138823252144e-05\n",
      "2.064853046884153e-05 1.997718833669238e-06 1.9768722136139448e-05\n",
      "1.1780055593274766e-05 6.833614173386992e-07 1.2000961501361443e-05\n",
      "8.0072067968754e-06 2.1121936430638394e-06 7.763504037922919e-06\n",
      "5.552156085229667e-06 4.410032183495064e-06 5.516681515540583e-06\n",
      "3.0104531467658574e-06 4.0713415807812875e-07 2.5582883328278012e-06\n",
      "1.5354702049301542e-05 1.532340321196321e-07 1.6794210608193617e-05\n",
      "9.217260539825212e-06 8.540183625226665e-07 8.319937362753792e-06\n",
      "2.35595003134097e-05 1.741036849996652e-06 2.155919506319858e-05\n",
      "2.378968356367283e-05 8.485300040254726e-07 2.2870229212336187e-05\n"
     ]
    }
   ],
   "source": [
    "from svd_derivative import svd_derivative\n",
    "for k in numpy.linspace(-10, 10, 10):\n",
    "    A_k = A(k)\n",
    "    A_dot_k = A_dot(k)\n",
    "\n",
    "    u_dot, sigma_dot, vt_dot = svd_derivative(A_k, A_dot_k)\n",
    "    u_dot_numeric, sigma_dot_numeric, vt_dot_numeric = svd_derivative_numeric(k, 1e-8)\n",
    "    \n",
    "    print(numpy.linalg.norm(u_dot - u_dot_numeric), numpy.linalg.norm(sigma_dot - sigma_dot_numeric), numpy.linalg.norm(vt_dot - vt_dot_numeric))"
   ]
  }
 ],
 "metadata": {
  "@webio": {
   "lastCommId": null,
   "lastKernelId": null
  },
  "kernelspec": {
   "display_name": "Python 3",
   "language": "python",
   "name": "python3"
  },
  "language_info": {
   "codemirror_mode": {
    "name": "ipython",
    "version": 3
   },
   "file_extension": ".py",
   "mimetype": "text/x-python",
   "name": "python",
   "nbconvert_exporter": "python",
   "pygments_lexer": "ipython3",
   "version": "3.5.2"
  },
  "toc": {
   "base_numbering": 1,
   "nav_menu": {},
   "number_sections": true,
   "sideBar": true,
   "skip_h1_title": false,
   "title_cell": "Table of Contents",
   "title_sidebar": "Contents",
   "toc_cell": true,
   "toc_position": {
    "height": "calc(100% - 180px)",
    "left": "10px",
    "top": "150px",
    "width": "165px"
   },
   "toc_section_display": true,
   "toc_window_display": true
  }
 },
 "nbformat": 4,
 "nbformat_minor": 2
}
